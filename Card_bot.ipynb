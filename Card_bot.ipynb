{
  "nbformat": 4,
  "nbformat_minor": 0,
  "metadata": {
    "colab": {
      "provenance": [],
      "authorship_tag": "ABX9TyOoQWATJiVWXdzE2AzDpXYw",
      "include_colab_link": true
    },
    "kernelspec": {
      "name": "python3",
      "display_name": "Python 3"
    },
    "language_info": {
      "name": "python"
    }
  },
  "cells": [
    {
      "cell_type": "markdown",
      "metadata": {
        "id": "view-in-github",
        "colab_type": "text"
      },
      "source": [
        "<a href=\"https://colab.research.google.com/github/iLumirecia/cardbot/blob/main/Card_bot.ipynb\" target=\"_parent\"><img src=\"https://colab.research.google.com/assets/colab-badge.svg\" alt=\"Open In Colab\"/></a>"
      ]
    },
    {
      "cell_type": "code",
      "execution_count": 1,
      "metadata": {
        "colab": {
          "base_uri": "https://localhost:8080/"
        },
        "id": "8OcKtzrfp2a1",
        "outputId": "b4031421-addd-431c-e7c1-d6fb0c1964b4"
      },
      "outputs": [
        {
          "output_type": "stream",
          "name": "stdout",
          "text": [
            "Collecting pyTelegramBotAPI\n",
            "  Downloading pyTelegramBotAPI-4.14.0.tar.gz (243 kB)\n",
            "\u001b[2K     \u001b[90m━━━━━━━━━━━━━━━━━━━━━━━━━━━━━━━━━━━━━━━━\u001b[0m \u001b[32m243.1/243.1 kB\u001b[0m \u001b[31m4.8 MB/s\u001b[0m eta \u001b[36m0:00:00\u001b[0m\n",
            "\u001b[?25h  Preparing metadata (setup.py) ... \u001b[?25l\u001b[?25hdone\n",
            "Requirement already satisfied: requests in /usr/local/lib/python3.10/dist-packages (from pyTelegramBotAPI) (2.31.0)\n",
            "Requirement already satisfied: charset-normalizer<4,>=2 in /usr/local/lib/python3.10/dist-packages (from requests->pyTelegramBotAPI) (3.3.2)\n",
            "Requirement already satisfied: idna<4,>=2.5 in /usr/local/lib/python3.10/dist-packages (from requests->pyTelegramBotAPI) (3.6)\n",
            "Requirement already satisfied: urllib3<3,>=1.21.1 in /usr/local/lib/python3.10/dist-packages (from requests->pyTelegramBotAPI) (2.0.7)\n",
            "Requirement already satisfied: certifi>=2017.4.17 in /usr/local/lib/python3.10/dist-packages (from requests->pyTelegramBotAPI) (2023.11.17)\n",
            "Building wheels for collected packages: pyTelegramBotAPI\n",
            "  Building wheel for pyTelegramBotAPI (setup.py) ... \u001b[?25l\u001b[?25hdone\n",
            "  Created wheel for pyTelegramBotAPI: filename=pyTelegramBotAPI-4.14.0-py3-none-any.whl size=215252 sha256=4cdfc3cc795214bcb4e08ac8d58677f6ac4178f07da500ffb09065e7850a7716\n",
            "  Stored in directory: /root/.cache/pip/wheels/25/51/2d/24b40a366c85c37928d5aa36ddf257e5a79fad25e1ecd11b2c\n",
            "Successfully built pyTelegramBotAPI\n",
            "Installing collected packages: pyTelegramBotAPI\n",
            "Successfully installed pyTelegramBotAPI-4.14.0\n",
            "Collecting Faker\n",
            "  Downloading Faker-20.1.0-py3-none-any.whl (1.7 MB)\n",
            "\u001b[2K     \u001b[90m━━━━━━━━━━━━━━━━━━━━━━━━━━━━━━━━━━━━━━━━\u001b[0m \u001b[32m1.7/1.7 MB\u001b[0m \u001b[31m19.7 MB/s\u001b[0m eta \u001b[36m0:00:00\u001b[0m\n",
            "\u001b[?25hRequirement already satisfied: python-dateutil>=2.4 in /usr/local/lib/python3.10/dist-packages (from Faker) (2.8.2)\n",
            "Requirement already satisfied: six>=1.5 in /usr/local/lib/python3.10/dist-packages (from python-dateutil>=2.4->Faker) (1.16.0)\n",
            "Installing collected packages: Faker\n",
            "Successfully installed Faker-20.1.0\n"
          ]
        }
      ],
      "source": [
        "!pip install pyTelegramBotAPI\n",
        "!pip install Faker"
      ]
    },
    {
      "cell_type": "code",
      "source": [
        "from telebot import TeleBot, types\n",
        "from faker import Faker\n",
        "\n",
        "\n",
        "bot = TeleBot(token='6891358533:AAHyHA1oLx-bwCfCehxgbWGjAHlqSBgcHyE', parse_mode='html') # создание бота\n",
        "\n",
        "faker = Faker() # утилита для генерации номеров кредитных карт\n",
        "\n",
        "# объект клавиаутры\n",
        "card_type_keybaord = types.ReplyKeyboardMarkup(resize_keyboard=True)\n",
        "# первый ряд кнопок\n",
        "card_type_keybaord.row(\n",
        "    types.KeyboardButton(text='VISA'),\n",
        "    types.KeyboardButton(text='Mastercard'),\n",
        ")\n",
        "# второй ряд кнопок\n",
        "card_type_keybaord.row(\n",
        "    types.KeyboardButton(text='Maestro'),\n",
        "    types.KeyboardButton(text='JCB'),\n",
        ")\n",
        "\n",
        "\n",
        "# обработчик команды '/start'\n",
        "@bot.message_handler(commands=['start'])\n",
        "def start_command_handler(message: types.Message):\n",
        "    # отправляем ответ на команду '/start'\n",
        "    bot.send_message(\n",
        "        chat_id=message.chat.id, # id чата, в который необходимо направить сообщение\n",
        "        text='Привет! Давай сгенерируем тестовую карту.\\nВыбери тип карты:', # текст сообщения\n",
        "        reply_markup=card_type_keybaord,\n",
        "    )\n",
        "\n",
        "# обработчик всех остальных сообщений\n",
        "@bot.message_handler()\n",
        "def message_handler(message: types.Message):\n",
        "    # проверяем текст сообщения на совпадение с текстом какой либо из кнопок\n",
        "    # в зависимости от типа карты присваем занчение переменной 'card_type'\n",
        "    if message.text == 'VISA':\n",
        "        card_type = 'visa'\n",
        "    elif message.text == 'Mastercard':\n",
        "        card_type = 'mastercard'\n",
        "    elif message.text == 'Maestro':\n",
        "        card_type = 'maestro'\n",
        "    elif message.text == 'JCB':\n",
        "        card_type = 'jcb'\n",
        "    else:\n",
        "        # если текст не совпал ни с одной из кнопок\n",
        "        # выводим ошибку\n",
        "        bot.send_message(\n",
        "            chat_id=message.chat.id,\n",
        "            text='Не понимаю тебя :(',\n",
        "        )\n",
        "        return\n",
        "\n",
        "    # получаем номер тестовой карты выбранного типа\n",
        "    # card_type может принимать одно из зачений ['maestro', 'mastercard', 'visa13', 'visa16', 'visa19',\n",
        "    # 'amex', 'discover', 'diners', 'jcb15', 'jcb16']\n",
        "    card_number = faker.credit_card_number(card_type)\n",
        "    # и выводим пользователю\n",
        "    bot.send_message(\n",
        "        chat_id=message.chat.id,\n",
        "        text=f'Тестовая карта {card_type}:\\n<code>{card_number}</code>'\n",
        "    )\n",
        "\n",
        "\n",
        "# главная функция программы\n",
        "def main():\n",
        "    # запускаем нашего бота\n",
        "    bot.infinity_polling()\n",
        "\n",
        "\n",
        "if __name__ == '__main__':\n",
        "    main()"
      ],
      "metadata": {
        "id": "mk7ATSAlp4uy"
      },
      "execution_count": null,
      "outputs": []
    }
  ]
}